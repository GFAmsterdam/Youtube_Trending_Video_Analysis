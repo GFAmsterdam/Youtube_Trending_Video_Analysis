{
 "cells": [
  {
   "cell_type": "code",
   "execution_count": 1,
   "id": "18d27ace",
   "metadata": {
    "scrolled": true
   },
   "outputs": [],
   "source": [
    "# Dependencies\n",
    "import json\n",
    "import pandas as pd\n",
    "import numpy as np\n",
    "import datetime as dt\n",
    "from datetime import timedelta\n",
    "# Import and read in CSV\n",
    "youtube_df = pd.read_csv('./Data/USvideos.csv')\n",
    "\n",
    "# Import Json and create category csv to read in excel if needed\n",
    "# cat_id_df = pd.read_json('./Data/US_category_id.json')\n",
    "# cat_id_df.to_csv('./Data/Category_alt.csv')"
   ]
  },
  {
   "cell_type": "code",
   "execution_count": 2,
   "id": "c9aa0c98",
   "metadata": {},
   "outputs": [],
   "source": [
    "#  Check Dtypes\n",
    "# youtube_df.dtypes"
   ]
  },
  {
   "cell_type": "code",
   "execution_count": 3,
   "id": "0a7e47a6",
   "metadata": {},
   "outputs": [],
   "source": [
    "# Fix time columns\n",
    "youtube_df[\"publish_time\"] = pd.to_datetime(youtube_df[\"publish_time\"], infer_datetime_format=True)\n",
    "youtube_df['publish_time']= youtube_df['publish_time'].values.astype('datetime64[s]')\n",
    "youtube_df[\"trending_date\"] = pd.to_datetime(youtube_df[\"trending_date\"], format=\"%y.%d.%m\", exact=False)\n",
    "\n",
    "# Create a column that shows how many days after a video is posted that it becomes trending\n",
    "youtube_df['post_to_trend_days'] = (youtube_df['trending_date'] - youtube_df['publish_time']).dt.days"
   ]
  },
  {
   "cell_type": "code",
   "execution_count": 4,
   "id": "84b5bccc",
   "metadata": {},
   "outputs": [],
   "source": [
    "# Check for new columns and fixed data types\n",
    "# youtube_df.dtypes"
   ]
  },
  {
   "cell_type": "code",
   "execution_count": 5,
   "id": "d0558a8a",
   "metadata": {},
   "outputs": [],
   "source": [
    "#  Find out what category id's are being used\n",
    "# youtube_df.category_id.value_counts()"
   ]
  },
  {
   "cell_type": "code",
   "execution_count": 6,
   "id": "06019b00",
   "metadata": {},
   "outputs": [],
   "source": [
    "# Create a dictionary for the categories used\n",
    "# Reference the 'Category_alt.csv'\n",
    "# Create a dict\n",
    "categories = {1:'Film & Animation',\n",
    "              2:'Autos & Vehicles',\n",
    "              10:'Music',\n",
    "              15:'Pets & Animals',\n",
    "              17:'Sports',\n",
    "              19:'Travel & Events',\n",
    "              20:'Gaming',\n",
    "              22:'People & Blogs',\n",
    "              23:'Comedy',\n",
    "              24:'Entertainment',\n",
    "              25:'News & Politics',\n",
    "              26:'Howto & Style',\n",
    "              27:'Education',\n",
    "              28:'Science & Technology',\n",
    "              29:'Nonprofits & Activism',\n",
    "              43:'Shows' \n",
    "             }"
   ]
  },
  {
   "cell_type": "code",
   "execution_count": 7,
   "id": "99e7bfb3",
   "metadata": {},
   "outputs": [],
   "source": [
    "# Create a duplicate of 'category_id' to apply the dictionary to\n",
    "youtube_df['category_type'] = youtube_df.loc[:,'category_id']\n",
    "\n",
    "# Apply the dictionary\n",
    "youtube_df.category_type = [categories[item] for item in youtube_df.category_type]\n",
    "\n",
    "# Drop columns that won't be used \n",
    "youtube_df = youtube_df.drop(['category_id', 'thumbnail_link'], axis=1)"
   ]
  },
  {
   "cell_type": "code",
   "execution_count": 8,
   "id": "c1a1151c",
   "metadata": {},
   "outputs": [],
   "source": [
    "# Check to see if the dictornary was applied properly\n",
    "# youtube_df.category_type.value_counts()"
   ]
  },
  {
   "cell_type": "code",
   "execution_count": 9,
   "id": "4330fa89",
   "metadata": {},
   "outputs": [],
   "source": [
    "# Get count of unique titles\n",
    "# youtube_df.nunique()"
   ]
  },
  {
   "cell_type": "code",
   "execution_count": 10,
   "id": "46dd8e60",
   "metadata": {},
   "outputs": [],
   "source": [
    "# Turn video_id into string and create dataframe for the First day the video was trending \n",
    "youtube_df_f = youtube_df.copy()\n",
    "youtube_df_f['video_id'] = youtube_df_f['video_id'].astype('string')\n",
    "\n",
    "# Turn video_id into string and create a dataframe for the last day the video was trending.\n",
    "youtube_df_l = youtube_df.copy()\n",
    "youtube_df_l['video_id'] = youtube_df_l['video_id'].astype('string')"
   ]
  },
  {
   "cell_type": "code",
   "execution_count": 11,
   "id": "74c95d3f",
   "metadata": {},
   "outputs": [],
   "source": [
    "# Keep the last time a video id occured\n",
    "youtube_df_f = youtube_df_f.drop_duplicates(subset=['video_id'],keep='first')\n",
    "# Keep the last time a video id occured\n",
    "youtube_df_l = youtube_df_l.drop_duplicates(subset=['video_id'],keep='last')"
   ]
  },
  {
   "cell_type": "code",
   "execution_count": 13,
   "id": "9b44575b",
   "metadata": {},
   "outputs": [],
   "source": [
    "# youtube_df_l['trend_time'] = youtube_df_f['trending_date']\n",
    "# # youtube_df_l['trend_time'] = youtube_df_l['trending_date'] - youtube_df_l['trend_time']\n",
    "# # youtube_df_l['trend_time'] = (t2 - t1)\n",
    "\n",
    "\n",
    "youtube_df_l['start_date'] = youtube_df_f['trending_date']\n",
    "youtube_df_l[['trending_date','start_date']] = youtube_df_l[['trending_date','start_date']].apply(pd.to_datetime)\n",
    "# youtube_df_l['trend_time'] = (t2['trending_date'] - t1['trending_date']) / np.timedelta64(1, 'D')\n",
    "df['handling_time_days'] = (df['despatch_date'] - df['order_date']).dt.total_seconds() / 60 / 60 / 24\n",
    "# youtube_df_l['trend_time'] = (youtube_df_l['trending_date'] - youtube_df_l['start_date']) / np.timedelta64(1, 'D')\n",
    "youtube_df_l['trend_time'] = (youtube_df_l['trending_date'] - youtube_df_l['start_date']).dt.days"
   ]
  },
  {
   "cell_type": "code",
   "execution_count": 14,
   "id": "686047a8",
   "metadata": {},
   "outputs": [
    {
     "data": {
      "text/plain": [
       "video_id                          string\n",
       "trending_date             datetime64[ns]\n",
       "title                             object\n",
       "channel_title                     object\n",
       "publish_time              datetime64[ns]\n",
       "tags                              object\n",
       "views                              int64\n",
       "likes                              int64\n",
       "dislikes                           int64\n",
       "comment_count                      int64\n",
       "comments_disabled                   bool\n",
       "ratings_disabled                    bool\n",
       "video_error_or_removed              bool\n",
       "description                       object\n",
       "post_to_trend_days                 int64\n",
       "category_type                     object\n",
       "start_date                datetime64[ns]\n",
       "trend_time                       float64\n",
       "dtype: object"
      ]
     },
     "execution_count": 14,
     "metadata": {},
     "output_type": "execute_result"
    }
   ],
   "source": [
    "youtube_df_l.dtypes"
   ]
  },
  {
   "cell_type": "code",
   "execution_count": null,
   "id": "37353d79",
   "metadata": {},
   "outputs": [],
   "source": []
  },
  {
   "cell_type": "code",
   "execution_count": 15,
   "id": "82434d9b",
   "metadata": {},
   "outputs": [
    {
     "data": {
      "text/plain": [
       "video_id                  6351\n",
       "trending_date              205\n",
       "title                     6343\n",
       "channel_title             2198\n",
       "publish_time              6267\n",
       "tags                      5855\n",
       "views                     6335\n",
       "likes                     5633\n",
       "dislikes                  2624\n",
       "comment_count             3771\n",
       "comments_disabled            2\n",
       "ratings_disabled             2\n",
       "video_error_or_removed       2\n",
       "description               6201\n",
       "post_to_trend_days         130\n",
       "category_type               16\n",
       "start_date                 166\n",
       "trend_time                   1\n",
       "dtype: int64"
      ]
     },
     "execution_count": 15,
     "metadata": {},
     "output_type": "execute_result"
    }
   ],
   "source": [
    "youtube_df_l.nunique()"
   ]
  },
  {
   "cell_type": "code",
   "execution_count": null,
   "id": "1d089c97",
   "metadata": {},
   "outputs": [],
   "source": [
    "youtube_df_l"
   ]
  },
  {
   "cell_type": "code",
   "execution_count": null,
   "id": "8282582f",
   "metadata": {},
   "outputs": [],
   "source": [
    "# youtube_df_l.to_csv('./Data/Youtube_last_trending.csv')\n",
    "# youtube_df_f.to_csv('./Data/Youtube_first_trending.csv')\n"
   ]
  }
 ],
 "metadata": {
  "kernelspec": {
   "display_name": "PythonData",
   "language": "python",
   "name": "pythondata"
  },
  "language_info": {
   "codemirror_mode": {
    "name": "ipython",
    "version": 3
   },
   "file_extension": ".py",
   "mimetype": "text/x-python",
   "name": "python",
   "nbconvert_exporter": "python",
   "pygments_lexer": "ipython3",
   "version": "3.7.1"
  }
 },
 "nbformat": 4,
 "nbformat_minor": 5
}
