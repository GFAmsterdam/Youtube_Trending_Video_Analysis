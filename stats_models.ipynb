{
 "cells": [
  {
   "cell_type": "code",
   "execution_count": 1,
   "id": "43a415b6",
   "metadata": {},
   "outputs": [],
   "source": [
    "import statsmodels.api as sm\n",
    "import pandas as pd\n",
    "from patsy import dmatrices\n",
    "youtube_df = pd.read_csv('./Data/Youtube_first_trending.csv')"
   ]
  },
  {
   "cell_type": "code",
   "execution_count": 2,
   "id": "55d902c6",
   "metadata": {},
   "outputs": [
    {
     "data": {
      "text/plain": [
       "Unnamed: 0                 int64\n",
       "video_id                  object\n",
       "trending_date             object\n",
       "title                     object\n",
       "channel_title             object\n",
       "category_id                int64\n",
       "publish_time              object\n",
       "tags                      object\n",
       "views                      int64\n",
       "likes                      int64\n",
       "dislikes                   int64\n",
       "comment_count              int64\n",
       "comments_disabled           bool\n",
       "ratings_disabled            bool\n",
       "video_error_or_removed      bool\n",
       "description               object\n",
       "post_to_trend_days         int64\n",
       "days_trending              int64\n",
       "tags_count                 int64\n",
       "category_type             object\n",
       "dtype: object"
      ]
     },
     "execution_count": 2,
     "metadata": {},
     "output_type": "execute_result"
    }
   ],
   "source": [
    "youtube_df.dtypes"
   ]
  },
  {
   "cell_type": "code",
   "execution_count": 3,
   "id": "49cd6de4",
   "metadata": {},
   "outputs": [],
   "source": [
    "youtube_nums = youtube_df[['views', 'likes', 'dislikes','comment_count', 'days_trending', 'post_to_trend_days', 'tags_count']]"
   ]
  },
  {
   "cell_type": "markdown",
   "id": "c0fe0566",
   "metadata": {},
   "source": [
    "# Testing days trending as target"
   ]
  },
  {
   "cell_type": "code",
   "execution_count": 4,
   "id": "2a4358f5",
   "metadata": {},
   "outputs": [],
   "source": [
    "y, X = dmatrices('days_trending ~ post_to_trend_days + comment_count + dislikes + views + likes + tags_count', data=youtube_nums, return_type='dataframe')"
   ]
  },
  {
   "cell_type": "code",
   "execution_count": 5,
   "id": "c35db499",
   "metadata": {},
   "outputs": [],
   "source": [
    "mod = sm.OLS(y, X)"
   ]
  },
  {
   "cell_type": "code",
   "execution_count": 6,
   "id": "6f062e5f",
   "metadata": {},
   "outputs": [],
   "source": [
    "res = mod.fit()"
   ]
  },
  {
   "cell_type": "code",
   "execution_count": 7,
   "id": "4cf4de28",
   "metadata": {},
   "outputs": [
    {
     "name": "stdout",
     "output_type": "stream",
     "text": [
      "                            OLS Regression Results                            \n",
      "==============================================================================\n",
      "Dep. Variable:          days_trending   R-squared:                       0.044\n",
      "Model:                            OLS   Adj. R-squared:                  0.043\n",
      "Method:                 Least Squares   F-statistic:                     48.16\n",
      "Date:                Tue, 08 Nov 2022   Prob (F-statistic):           4.22e-58\n",
      "Time:                        19:12:51   Log-Likelihood:                -18621.\n",
      "No. Observations:                6351   AIC:                         3.726e+04\n",
      "Df Residuals:                    6344   BIC:                         3.730e+04\n",
      "Df Model:                           6                                         \n",
      "Covariance Type:            nonrobust                                         \n",
      "======================================================================================\n",
      "                         coef    std err          t      P>|t|      [0.025      0.975]\n",
      "--------------------------------------------------------------------------------------\n",
      "Intercept              6.3601      0.112     56.937      0.000       6.141       6.579\n",
      "post_to_trend_days    -0.0014      0.000     -5.141      0.000      -0.002      -0.001\n",
      "comment_count      -2.839e-05   6.56e-06     -4.329      0.000   -4.12e-05   -1.55e-05\n",
      "dislikes            1.198e-05   7.54e-06      1.589      0.112    -2.8e-06    2.68e-05\n",
      "views               2.699e-07   4.83e-08      5.589      0.000    1.75e-07    3.65e-07\n",
      "likes               7.059e-06    1.2e-06      5.879      0.000     4.7e-06    9.41e-06\n",
      "tags_count            -0.0111      0.005     -2.349      0.019      -0.020      -0.002\n",
      "==============================================================================\n",
      "Omnibus:                     1621.486   Durbin-Watson:                   1.248\n",
      "Prob(Omnibus):                  0.000   Jarque-Bera (JB):             4230.263\n",
      "Skew:                           1.375   Prob(JB):                         0.00\n",
      "Kurtosis:                       5.902   Cond. No.                     4.07e+06\n",
      "==============================================================================\n",
      "\n",
      "Notes:\n",
      "[1] Standard Errors assume that the covariance matrix of the errors is correctly specified.\n",
      "[2] The condition number is large, 4.07e+06. This might indicate that there are\n",
      "strong multicollinearity or other numerical problems.\n"
     ]
    }
   ],
   "source": [
    "print(res.summary())"
   ]
  },
  {
   "cell_type": "markdown",
   "id": "026ed3ed",
   "metadata": {},
   "source": [
    "# Testing post to trend days as target"
   ]
  },
  {
   "cell_type": "code",
   "execution_count": 8,
   "id": "2956263d",
   "metadata": {},
   "outputs": [],
   "source": [
    "y2, X2 = dmatrices('post_to_trend_days ~  days_trending  + comment_count + dislikes + views + likes + tags_count', data=youtube_nums, return_type='dataframe')"
   ]
  },
  {
   "cell_type": "code",
   "execution_count": 9,
   "id": "3ecfe112",
   "metadata": {},
   "outputs": [],
   "source": [
    "mod2 = sm.OLS(y2, X2)"
   ]
  },
  {
   "cell_type": "code",
   "execution_count": 10,
   "id": "d83b7695",
   "metadata": {},
   "outputs": [],
   "source": [
    "res2 = mod2.fit()"
   ]
  },
  {
   "cell_type": "code",
   "execution_count": 11,
   "id": "c735e88b",
   "metadata": {},
   "outputs": [
    {
     "name": "stdout",
     "output_type": "stream",
     "text": [
      "                            OLS Regression Results                            \n",
      "==============================================================================\n",
      "Dep. Variable:     post_to_trend_days   R-squared:                       0.011\n",
      "Model:                            OLS   Adj. R-squared:                  0.010\n",
      "Method:                 Least Squares   F-statistic:                     11.89\n",
      "Date:                Tue, 08 Nov 2022   Prob (F-statistic):           2.62e-13\n",
      "Time:                        19:12:52   Log-Likelihood:                -42934.\n",
      "No. Observations:                6351   AIC:                         8.588e+04\n",
      "Df Residuals:                    6344   BIC:                         8.593e+04\n",
      "Df Model:                           6                                         \n",
      "Covariance Type:            nonrobust                                         \n",
      "=================================================================================\n",
      "                    coef    std err          t      P>|t|      [0.025      0.975]\n",
      "---------------------------------------------------------------------------------\n",
      "Intercept        68.8383      6.255     11.006      0.000      56.577      81.100\n",
      "days_trending    -2.9618      0.576     -5.141      0.000      -4.091      -1.832\n",
      "comment_count  1.477e-05      0.000      0.049      0.961      -0.001       0.001\n",
      "dislikes       3.102e-05      0.000      0.089      0.929      -0.001       0.001\n",
      "views          -1.59e-06   2.23e-06     -0.714      0.475   -5.95e-06    2.77e-06\n",
      "likes         -1.713e-05   5.54e-05     -0.309      0.757      -0.000    9.14e-05\n",
      "tags_count       -1.3365      0.216     -6.184      0.000      -1.760      -0.913\n",
      "==============================================================================\n",
      "Omnibus:                    10808.087   Durbin-Watson:                   1.878\n",
      "Prob(Omnibus):                  0.000   Jarque-Bera (JB):          6699814.032\n",
      "Skew:                          11.943   Prob(JB):                         0.00\n",
      "Kurtosis:                     160.314   Cond. No.                     4.96e+06\n",
      "==============================================================================\n",
      "\n",
      "Notes:\n",
      "[1] Standard Errors assume that the covariance matrix of the errors is correctly specified.\n",
      "[2] The condition number is large, 4.96e+06. This might indicate that there are\n",
      "strong multicollinearity or other numerical problems.\n"
     ]
    }
   ],
   "source": [
    "print(res2.summary())"
   ]
  },
  {
   "cell_type": "markdown",
   "id": "195c5758",
   "metadata": {},
   "source": [
    "# Look at Channels that had a single video trend"
   ]
  },
  {
   "cell_type": "code",
   "execution_count": 12,
   "id": "7b3c11b4",
   "metadata": {},
   "outputs": [],
   "source": [
    "single_vid_channel = pd.read_csv('./Data/single_vid_channel_stats.csv')"
   ]
  },
  {
   "cell_type": "code",
   "execution_count": 13,
   "id": "62933540",
   "metadata": {},
   "outputs": [
    {
     "data": {
      "text/plain": [
       "Unnamed: 0                       object\n",
       "upload_count                      int64\n",
       "days_trending                     int64\n",
       "trending_days_per_vid             int64\n",
       "tags_per_channel                  int64\n",
       "views_per_channel                 int64\n",
       "likes_per_channel                 int64\n",
       "dislikes_per_channel              int64\n",
       "comments_per_channel              int64\n",
       "days_to_trend                     int64\n",
       "comments_disabled_per_channel     int64\n",
       "ratings_disabled_per_channel      int64\n",
       "dtype: object"
      ]
     },
     "execution_count": 13,
     "metadata": {},
     "output_type": "execute_result"
    }
   ],
   "source": [
    "single_vid_channel.dtypes"
   ]
  },
  {
   "cell_type": "code",
   "execution_count": 14,
   "id": "365c3d00",
   "metadata": {},
   "outputs": [
    {
     "ename": "KeyError",
     "evalue": "\"None of [Index(['Views', 'Likes', 'Dislikes', 'Comments', 'Days Spent Trending',\\n       'Days Until Trending', 'Tags Count'],\\n      dtype='object')] are in the [columns]\"",
     "output_type": "error",
     "traceback": [
      "\u001b[1;31m---------------------------------------------------------------------------\u001b[0m",
      "\u001b[1;31mKeyError\u001b[0m                                  Traceback (most recent call last)",
      "\u001b[1;32m~\\AppData\\Local\\Temp\\ipykernel_13868\\4196113463.py\u001b[0m in \u001b[0;36m<module>\u001b[1;34m\u001b[0m\n\u001b[1;32m----> 1\u001b[1;33m \u001b[0msingle_vid_nums\u001b[0m \u001b[1;33m=\u001b[0m \u001b[0msingle_vid_channel\u001b[0m\u001b[1;33m[\u001b[0m\u001b[1;33m[\u001b[0m\u001b[1;34m'Views'\u001b[0m\u001b[1;33m,\u001b[0m \u001b[1;34m'Likes'\u001b[0m\u001b[1;33m,\u001b[0m \u001b[1;34m'Dislikes'\u001b[0m\u001b[1;33m,\u001b[0m\u001b[1;34m'Comments'\u001b[0m\u001b[1;33m,\u001b[0m \u001b[1;34m'Days Spent Trending'\u001b[0m\u001b[1;33m,\u001b[0m \u001b[1;34m'Days Until Trending'\u001b[0m\u001b[1;33m,\u001b[0m \u001b[1;34m'Tags Count'\u001b[0m\u001b[1;33m]\u001b[0m\u001b[1;33m]\u001b[0m\u001b[1;33m\u001b[0m\u001b[1;33m\u001b[0m\u001b[0m\n\u001b[0m",
      "\u001b[1;32m~\\anaconda3\\envs\\mlenv\\lib\\site-packages\\pandas\\core\\frame.py\u001b[0m in \u001b[0;36m__getitem__\u001b[1;34m(self, key)\u001b[0m\n\u001b[0;32m   3462\u001b[0m             \u001b[1;32mif\u001b[0m \u001b[0mis_iterator\u001b[0m\u001b[1;33m(\u001b[0m\u001b[0mkey\u001b[0m\u001b[1;33m)\u001b[0m\u001b[1;33m:\u001b[0m\u001b[1;33m\u001b[0m\u001b[1;33m\u001b[0m\u001b[0m\n\u001b[0;32m   3463\u001b[0m                 \u001b[0mkey\u001b[0m \u001b[1;33m=\u001b[0m \u001b[0mlist\u001b[0m\u001b[1;33m(\u001b[0m\u001b[0mkey\u001b[0m\u001b[1;33m)\u001b[0m\u001b[1;33m\u001b[0m\u001b[1;33m\u001b[0m\u001b[0m\n\u001b[1;32m-> 3464\u001b[1;33m             \u001b[0mindexer\u001b[0m \u001b[1;33m=\u001b[0m \u001b[0mself\u001b[0m\u001b[1;33m.\u001b[0m\u001b[0mloc\u001b[0m\u001b[1;33m.\u001b[0m\u001b[0m_get_listlike_indexer\u001b[0m\u001b[1;33m(\u001b[0m\u001b[0mkey\u001b[0m\u001b[1;33m,\u001b[0m \u001b[0maxis\u001b[0m\u001b[1;33m=\u001b[0m\u001b[1;36m1\u001b[0m\u001b[1;33m)\u001b[0m\u001b[1;33m[\u001b[0m\u001b[1;36m1\u001b[0m\u001b[1;33m]\u001b[0m\u001b[1;33m\u001b[0m\u001b[1;33m\u001b[0m\u001b[0m\n\u001b[0m\u001b[0;32m   3465\u001b[0m \u001b[1;33m\u001b[0m\u001b[0m\n\u001b[0;32m   3466\u001b[0m         \u001b[1;31m# take() does not accept boolean indexers\u001b[0m\u001b[1;33m\u001b[0m\u001b[1;33m\u001b[0m\u001b[1;33m\u001b[0m\u001b[0m\n",
      "\u001b[1;32m~\\anaconda3\\envs\\mlenv\\lib\\site-packages\\pandas\\core\\indexing.py\u001b[0m in \u001b[0;36m_get_listlike_indexer\u001b[1;34m(self, key, axis)\u001b[0m\n\u001b[0;32m   1312\u001b[0m             \u001b[0mkeyarr\u001b[0m\u001b[1;33m,\u001b[0m \u001b[0mindexer\u001b[0m\u001b[1;33m,\u001b[0m \u001b[0mnew_indexer\u001b[0m \u001b[1;33m=\u001b[0m \u001b[0max\u001b[0m\u001b[1;33m.\u001b[0m\u001b[0m_reindex_non_unique\u001b[0m\u001b[1;33m(\u001b[0m\u001b[0mkeyarr\u001b[0m\u001b[1;33m)\u001b[0m\u001b[1;33m\u001b[0m\u001b[1;33m\u001b[0m\u001b[0m\n\u001b[0;32m   1313\u001b[0m \u001b[1;33m\u001b[0m\u001b[0m\n\u001b[1;32m-> 1314\u001b[1;33m         \u001b[0mself\u001b[0m\u001b[1;33m.\u001b[0m\u001b[0m_validate_read_indexer\u001b[0m\u001b[1;33m(\u001b[0m\u001b[0mkeyarr\u001b[0m\u001b[1;33m,\u001b[0m \u001b[0mindexer\u001b[0m\u001b[1;33m,\u001b[0m \u001b[0maxis\u001b[0m\u001b[1;33m)\u001b[0m\u001b[1;33m\u001b[0m\u001b[1;33m\u001b[0m\u001b[0m\n\u001b[0m\u001b[0;32m   1315\u001b[0m \u001b[1;33m\u001b[0m\u001b[0m\n\u001b[0;32m   1316\u001b[0m         if needs_i8_conversion(ax.dtype) or isinstance(\n",
      "\u001b[1;32m~\\anaconda3\\envs\\mlenv\\lib\\site-packages\\pandas\\core\\indexing.py\u001b[0m in \u001b[0;36m_validate_read_indexer\u001b[1;34m(self, key, indexer, axis)\u001b[0m\n\u001b[0;32m   1372\u001b[0m                 \u001b[1;32mif\u001b[0m \u001b[0muse_interval_msg\u001b[0m\u001b[1;33m:\u001b[0m\u001b[1;33m\u001b[0m\u001b[1;33m\u001b[0m\u001b[0m\n\u001b[0;32m   1373\u001b[0m                     \u001b[0mkey\u001b[0m \u001b[1;33m=\u001b[0m \u001b[0mlist\u001b[0m\u001b[1;33m(\u001b[0m\u001b[0mkey\u001b[0m\u001b[1;33m)\u001b[0m\u001b[1;33m\u001b[0m\u001b[1;33m\u001b[0m\u001b[0m\n\u001b[1;32m-> 1374\u001b[1;33m                 \u001b[1;32mraise\u001b[0m \u001b[0mKeyError\u001b[0m\u001b[1;33m(\u001b[0m\u001b[1;34mf\"None of [{key}] are in the [{axis_name}]\"\u001b[0m\u001b[1;33m)\u001b[0m\u001b[1;33m\u001b[0m\u001b[1;33m\u001b[0m\u001b[0m\n\u001b[0m\u001b[0;32m   1375\u001b[0m \u001b[1;33m\u001b[0m\u001b[0m\n\u001b[0;32m   1376\u001b[0m             \u001b[0mnot_found\u001b[0m \u001b[1;33m=\u001b[0m \u001b[0mlist\u001b[0m\u001b[1;33m(\u001b[0m\u001b[0mensure_index\u001b[0m\u001b[1;33m(\u001b[0m\u001b[0mkey\u001b[0m\u001b[1;33m)\u001b[0m\u001b[1;33m[\u001b[0m\u001b[0mmissing_mask\u001b[0m\u001b[1;33m.\u001b[0m\u001b[0mnonzero\u001b[0m\u001b[1;33m(\u001b[0m\u001b[1;33m)\u001b[0m\u001b[1;33m[\u001b[0m\u001b[1;36m0\u001b[0m\u001b[1;33m]\u001b[0m\u001b[1;33m]\u001b[0m\u001b[1;33m.\u001b[0m\u001b[0munique\u001b[0m\u001b[1;33m(\u001b[0m\u001b[1;33m)\u001b[0m\u001b[1;33m)\u001b[0m\u001b[1;33m\u001b[0m\u001b[1;33m\u001b[0m\u001b[0m\n",
      "\u001b[1;31mKeyError\u001b[0m: \"None of [Index(['Views', 'Likes', 'Dislikes', 'Comments', 'Days Spent Trending',\\n       'Days Until Trending', 'Tags Count'],\\n      dtype='object')] are in the [columns]\""
     ]
    }
   ],
   "source": [
    "single_vid_nums = single_vid_channel[['Views', 'Likes', 'Dislikes','Comments', 'Days Spent Trending', 'Days Until Trending', 'Tags Count']]"
   ]
  },
  {
   "cell_type": "code",
   "execution_count": null,
   "id": "eb1b9fc0",
   "metadata": {},
   "outputs": [],
   "source": [
    "single_vid_nums.dtypes"
   ]
  },
  {
   "cell_type": "code",
   "execution_count": null,
   "id": "3988f38a",
   "metadata": {},
   "outputs": [],
   "source": [
    "views = single_vid_nums['Views']\n",
    "likes = single_vid_nums['Likes']\n",
    "dislikes = single_vid_nums['Dislikes']\n",
    "comments = single_vid_nums['Comments']\n",
    "days_trending = single_vid_nums['Days Spent Trending']\n",
    "days_to_trend = single_vid_nums['Days Until Trending']\n",
    "tags_count = single_vid_nums['Tags Count']\n",
    "\n",
    "days_trending"
   ]
  },
  {
   "cell_type": "code",
   "execution_count": null,
   "id": "e65dd31e",
   "metadata": {},
   "outputs": [],
   "source": [
    "single_vid_nums['views'] = single_vid_nums['Views']\n",
    "single_vid_nums['likes'] = single_vid_nums['Likes']\n",
    "single_vid_nums['dislikes'] = single_vid_nums['Dislikes']\n",
    "single_vid_nums['comments'] = single_vid_nums['Comments']\n",
    "single_vid_nums['days_trending'] = single_vid_nums['Days Spent Trending']\n",
    "single_vid_nums['days_to_trend'] = single_vid_nums['Days Until Trending']\n",
    "single_vid_nums['tags_count'] = single_vid_nums['Tags Count']\n"
   ]
  },
  {
   "cell_type": "code",
   "execution_count": null,
   "id": "a486a703",
   "metadata": {},
   "outputs": [],
   "source": [
    "y3, X3 = dmatrices('days_trending ~  days_to_trend  + comments + dislikes + views + likes + tags_count', data=single_vid_nums, return_type='dataframe')"
   ]
  },
  {
   "cell_type": "code",
   "execution_count": null,
   "id": "f9cf27dd",
   "metadata": {},
   "outputs": [],
   "source": [
    "mod3 = sm.OLS(y3, X3)\n",
    "res3 = mod3.fit()\n",
    "print(res3.summary())"
   ]
  },
  {
   "cell_type": "code",
   "execution_count": null,
   "id": "4ffece61",
   "metadata": {},
   "outputs": [],
   "source": [
    "y4, X4 = dmatrices('days_to_trend ~  days_trending  + comments + dislikes + views + likes + tags_count', data=single_vid_nums, return_type='dataframe')"
   ]
  },
  {
   "cell_type": "code",
   "execution_count": null,
   "id": "5f096096",
   "metadata": {},
   "outputs": [],
   "source": [
    "mod4 = sm.OLS(y4, X4)\n",
    "res4 = mod4.fit()\n",
    "print(res4.summary())"
   ]
  },
  {
   "cell_type": "code",
   "execution_count": null,
   "id": "4da420ea",
   "metadata": {},
   "outputs": [],
   "source": [
    "multi_vid_channel = pd.read_csv('./Data/multi_vid_channel_stats.csv')"
   ]
  },
  {
   "cell_type": "code",
   "execution_count": null,
   "id": "e7b79e99",
   "metadata": {},
   "outputs": [],
   "source": [
    "multi_vid_channel.dtypes"
   ]
  },
  {
   "cell_type": "code",
   "execution_count": null,
   "id": "2f15e639",
   "metadata": {},
   "outputs": [],
   "source": []
  },
  {
   "cell_type": "code",
   "execution_count": null,
   "id": "585e4c8f",
   "metadata": {},
   "outputs": [],
   "source": []
  },
  {
   "cell_type": "code",
   "execution_count": null,
   "id": "da48a0fa",
   "metadata": {},
   "outputs": [],
   "source": []
  }
 ],
 "metadata": {
  "kernelspec": {
   "display_name": "mlenv",
   "language": "python",
   "name": "mlenv"
  },
  "language_info": {
   "codemirror_mode": {
    "name": "ipython",
    "version": 3
   },
   "file_extension": ".py",
   "mimetype": "text/x-python",
   "name": "python",
   "nbconvert_exporter": "python",
   "pygments_lexer": "ipython3",
   "version": "3.7.13"
  }
 },
 "nbformat": 4,
 "nbformat_minor": 5
}
