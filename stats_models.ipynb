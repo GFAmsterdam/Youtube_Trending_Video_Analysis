{
 "cells": [
  {
   "cell_type": "code",
   "execution_count": null,
   "id": "43a415b6",
   "metadata": {},
   "outputs": [],
   "source": [
    "import statsmodels.api as sm\n",
    "import pandas as pd\n",
    "from patsy import dmatrices\n",
    "youtube_df = pd.read_csv('./Data/Youtube_first_trending.csv')"
   ]
  },
  {
   "cell_type": "code",
   "execution_count": null,
   "id": "55d902c6",
   "metadata": {},
   "outputs": [],
   "source": [
    "youtube_df.dtypes"
   ]
  },
  {
   "cell_type": "code",
   "execution_count": null,
   "id": "49cd6de4",
   "metadata": {},
   "outputs": [],
   "source": [
    "youtube_nums = youtube_df[['views', 'likes', 'dislikes','comment_count', 'days_trending', 'post_to_trend_days', 'tags_count']]"
   ]
  },
  {
   "cell_type": "markdown",
   "id": "c0fe0566",
   "metadata": {},
   "source": [
    "# Testing days trending as target"
   ]
  },
  {
   "cell_type": "code",
   "execution_count": null,
   "id": "2a4358f5",
   "metadata": {},
   "outputs": [],
   "source": [
    "y, X = dmatrices('days_trending ~ post_to_trend_days + comment_count + dislikes + views + likes + tags_count', data=youtube_nums, return_type='dataframe')"
   ]
  },
  {
   "cell_type": "code",
   "execution_count": null,
   "id": "c35db499",
   "metadata": {},
   "outputs": [],
   "source": [
    "mod = sm.OLS(y, X)"
   ]
  },
  {
   "cell_type": "code",
   "execution_count": null,
   "id": "6f062e5f",
   "metadata": {},
   "outputs": [],
   "source": [
    "res = mod.fit()"
   ]
  },
  {
   "cell_type": "code",
   "execution_count": null,
   "id": "4cf4de28",
   "metadata": {},
   "outputs": [],
   "source": [
    "print(res.summary())"
   ]
  },
  {
   "cell_type": "markdown",
   "id": "026ed3ed",
   "metadata": {},
   "source": [
    "# Testing post to trend days as target"
   ]
  },
  {
   "cell_type": "code",
   "execution_count": null,
   "id": "2956263d",
   "metadata": {},
   "outputs": [],
   "source": [
    "y2, X2 = dmatrices('post_to_trend_days ~  days_trending  + comment_count + dislikes + views + likes + tags_count', data=youtube_nums, return_type='dataframe')"
   ]
  },
  {
   "cell_type": "code",
   "execution_count": null,
   "id": "3ecfe112",
   "metadata": {},
   "outputs": [],
   "source": [
    "mod2 = sm.OLS(y2, X2)"
   ]
  },
  {
   "cell_type": "code",
   "execution_count": null,
   "id": "d83b7695",
   "metadata": {},
   "outputs": [],
   "source": [
    "res2 = mod2.fit()"
   ]
  },
  {
   "cell_type": "code",
   "execution_count": null,
   "id": "c735e88b",
   "metadata": {},
   "outputs": [],
   "source": [
    "print(res2.summary())"
   ]
  },
  {
   "cell_type": "markdown",
   "id": "195c5758",
   "metadata": {},
   "source": [
    "# Look at Channels that had a single video trend"
   ]
  },
  {
   "cell_type": "code",
   "execution_count": null,
   "id": "7b3c11b4",
   "metadata": {},
   "outputs": [],
   "source": [
    "single_vid_channel = pd.read_csv('./Data/single_vid_channel_stats.csv')"
   ]
  },
  {
   "cell_type": "code",
   "execution_count": null,
   "id": "62933540",
   "metadata": {},
   "outputs": [],
   "source": [
    "single_vid_channel.dtypes"
   ]
  },
  {
   "cell_type": "code",
   "execution_count": null,
   "id": "365c3d00",
   "metadata": {},
   "outputs": [],
   "source": [
    "single_vid_nums = single_vid_channel[['Views', 'Likes', 'Dislikes','Comments', 'Days Spent Trending', 'Days Until Trending', 'Tags Count']]"
   ]
  },
  {
   "cell_type": "code",
   "execution_count": null,
   "id": "eb1b9fc0",
   "metadata": {},
   "outputs": [],
   "source": [
    "single_vid_nums.dtypes"
   ]
  },
  {
   "cell_type": "code",
   "execution_count": null,
   "id": "3988f38a",
   "metadata": {},
   "outputs": [],
   "source": [
    "views = single_vid_nums['Views']\n",
    "likes = single_vid_nums['Likes']\n",
    "dislikes = single_vid_nums['Dislikes']\n",
    "comments = single_vid_nums['Comments']\n",
    "days_trending = single_vid_nums['Days Spent Trending']\n",
    "days_to_trend = single_vid_nums['Days Until Trending']\n",
    "tags_count = single_vid_nums['Tags Count']\n",
    "\n",
    "days_trending"
   ]
  },
  {
   "cell_type": "code",
   "execution_count": null,
   "id": "e65dd31e",
   "metadata": {},
   "outputs": [],
   "source": [
    "single_vid_nums['views'] = single_vid_nums['Views']\n",
    "single_vid_nums['likes'] = single_vid_nums['Likes']\n",
    "single_vid_nums['dislikes'] = single_vid_nums['Dislikes']\n",
    "single_vid_nums['comments'] = single_vid_nums['Comments']\n",
    "single_vid_nums['days_trending'] = single_vid_nums['Days Spent Trending']\n",
    "single_vid_nums['days_to_trend'] = single_vid_nums['Days Until Trending']\n",
    "single_vid_nums['tags_count'] = single_vid_nums['Tags Count']\n"
   ]
  },
  {
   "cell_type": "code",
   "execution_count": null,
   "id": "a486a703",
   "metadata": {},
   "outputs": [],
   "source": [
    "y3, X3 = dmatrices('days_trending ~  days_to_trend  + comments + dislikes + views + likes + tags_count', data=single_vid_nums, return_type='dataframe')"
   ]
  },
  {
   "cell_type": "code",
   "execution_count": null,
   "id": "f9cf27dd",
   "metadata": {},
   "outputs": [],
   "source": [
    "mod3 = sm.OLS(y3, X3)\n",
    "res3 = mod3.fit()\n",
    "print(res3.summary())"
   ]
  },
  {
   "cell_type": "code",
   "execution_count": null,
   "id": "4ffece61",
   "metadata": {},
   "outputs": [],
   "source": [
    "y4, X4 = dmatrices('days_to_trend ~  days_trending  + comments + dislikes + views + likes + tags_count', data=single_vid_nums, return_type='dataframe')"
   ]
  },
  {
   "cell_type": "code",
   "execution_count": null,
   "id": "5f096096",
   "metadata": {},
   "outputs": [],
   "source": [
    "mod4 = sm.OLS(y4, X4)\n",
    "res4 = mod4.fit()\n",
    "print(res4.summary())"
   ]
  },
  {
   "cell_type": "code",
   "execution_count": null,
   "id": "4da420ea",
   "metadata": {},
   "outputs": [],
   "source": [
    "multi_vid_channel = pd.read_csv('./Data/multi_vid_channel_stats.csv')"
   ]
  },
  {
   "cell_type": "code",
   "execution_count": null,
   "id": "e7b79e99",
   "metadata": {},
   "outputs": [],
   "source": [
    "multi_vid_channel.dtypes"
   ]
  },
  {
   "cell_type": "code",
   "execution_count": null,
   "id": "2f15e639",
   "metadata": {},
   "outputs": [],
   "source": []
  },
  {
   "cell_type": "code",
   "execution_count": null,
   "id": "585e4c8f",
   "metadata": {},
   "outputs": [],
   "source": []
  },
  {
   "cell_type": "code",
   "execution_count": null,
   "id": "da48a0fa",
   "metadata": {},
   "outputs": [],
   "source": []
  }
 ],
 "metadata": {
  "kernelspec": {
   "display_name": "mlenv",
   "language": "python",
   "name": "mlenv"
  },
  "language_info": {
   "codemirror_mode": {
    "name": "ipython",
    "version": 3
   },
   "file_extension": ".py",
   "mimetype": "text/x-python",
   "name": "python",
   "nbconvert_exporter": "python",
   "pygments_lexer": "ipython3",
   "version": "3.7.13"
  }
 },
 "nbformat": 4,
 "nbformat_minor": 5
}
