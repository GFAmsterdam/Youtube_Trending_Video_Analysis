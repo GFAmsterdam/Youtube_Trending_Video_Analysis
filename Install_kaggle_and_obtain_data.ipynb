{
 "cells": [
  {
   "cell_type": "markdown",
   "id": "6acb90d9",
   "metadata": {},
   "source": [
    "## Install Kaggle and API Key\n"
   ]
  },
  {
   "cell_type": "code",
   "execution_count": 3,
   "id": "574c42ad",
   "metadata": {},
   "outputs": [],
   "source": [
    "# To install kaggle uncomment and run the code bellow\n",
    "\n",
    "# pip install kaggle"
   ]
  },
  {
   "cell_type": "markdown",
   "id": "8a0cfae6",
   "metadata": {},
   "source": [
    "Once installed, log in to kaggle and view your account. You can access that page by replacing 'USERNAME' with your kaggle username. Click 'Create New API Token' and move that file to the kaggle folder (./Users/username/.kaggle)."
   ]
  },
  {
   "cell_type": "code",
   "execution_count": 4,
   "id": "814b1b3b",
   "metadata": {},
   "outputs": [],
   "source": [
    "# https://www.kaggle.com/'USERNAME'/account"
   ]
  },
  {
   "cell_type": "markdown",
   "id": "dc9914a6",
   "metadata": {},
   "source": [
    "Run the code below in your environment kaggle was installed. I used powershell to acomplish this"
   ]
  },
  {
   "cell_type": "code",
   "execution_count": 5,
   "id": "c0669c22",
   "metadata": {},
   "outputs": [],
   "source": [
    "# kaggle datasets download -d datasnaek/youtube-new"
   ]
  },
  {
   "cell_type": "markdown",
   "id": "2aaa8405",
   "metadata": {},
   "source": [
    "THe data will be downloaded in your (./User/username) folder. The data will need to be extracted. The only contents of the folder that are used are (Usvideos.csv) and (US_category_id.json)"
   ]
  },
  {
   "cell_type": "code",
   "execution_count": null,
   "id": "8098769f",
   "metadata": {},
   "outputs": [],
   "source": []
  }
 ],
 "metadata": {
  "kernelspec": {
   "display_name": "PythonData",
   "language": "python",
   "name": "pythondata"
  },
  "language_info": {
   "codemirror_mode": {
    "name": "ipython",
    "version": 3
   },
   "file_extension": ".py",
   "mimetype": "text/x-python",
   "name": "python",
   "nbconvert_exporter": "python",
   "pygments_lexer": "ipython3",
   "version": "3.7.1"
  }
 },
 "nbformat": 4,
 "nbformat_minor": 5
}
