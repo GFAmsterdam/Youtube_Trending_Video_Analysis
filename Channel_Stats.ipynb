{
 "cells": [
  {
   "cell_type": "code",
   "execution_count": 2,
   "id": "a1861649",
   "metadata": {},
   "outputs": [],
   "source": [
    "# Dependencies\n",
    "import json\n",
    "import pandas as pd\n",
    "import numpy as np\n",
    "from datetime import datetime\n",
    "youtube_df = pd.read_csv('./Data/Youtube_last_trending.csv')"
   ]
  },
  {
   "cell_type": "code",
   "execution_count": 3,
   "id": "e2c705e3",
   "metadata": {},
   "outputs": [
    {
     "data": {
      "text/plain": [
       "Unnamed: 0                 int64\n",
       "video_id                  object\n",
       "trending_date             object\n",
       "title                     object\n",
       "channel_title             object\n",
       "category_id                int64\n",
       "publish_time              object\n",
       "tags                      object\n",
       "views                      int64\n",
       "likes                      int64\n",
       "dislikes                   int64\n",
       "comment_count              int64\n",
       "comments_disabled           bool\n",
       "ratings_disabled            bool\n",
       "video_error_or_removed      bool\n",
       "description               object\n",
       "post_to_trend_days         int64\n",
       "days_trending              int64\n",
       "tags_count                 int64\n",
       "category_type             object\n",
       "dtype: object"
      ]
     },
     "execution_count": 3,
     "metadata": {},
     "output_type": "execute_result"
    }
   ],
   "source": [
    "# Figure out column names and dtypes\n",
    "youtube_df.dtypes"
   ]
  },
  {
   "cell_type": "code",
   "execution_count": 4,
   "id": "e2a6fc0a",
   "metadata": {},
   "outputs": [
    {
     "data": {
      "text/plain": [
       "2198"
      ]
     },
     "execution_count": 4,
     "metadata": {},
     "output_type": "execute_result"
    }
   ],
   "source": [
    "youtube_df.channel_title.nunique()"
   ]
  },
  {
   "cell_type": "code",
   "execution_count": 5,
   "id": "43b73a4e",
   "metadata": {},
   "outputs": [],
   "source": [
    "# Convert 'comments_disabled' and 'ratings_disabled' to 'int' to create count\n",
    "youtube_df.comments_disabled = youtube_df.comments_disabled.astype('int')\n",
    "youtube_df.ratings_disabled = youtube_df.ratings_disabled.astype('int')\n",
    "youtube_df.video_error_or_removed = youtube_df.video_error_or_removed.astype('int')"
   ]
  },
  {
   "cell_type": "code",
   "execution_count": 6,
   "id": "50b59667",
   "metadata": {},
   "outputs": [],
   "source": [
    "# Create an upload count\n",
    "upload_count = (youtube_df.channel_title.value_counts()).astype('int')\n",
    "\n",
    "# Count views per channel \n",
    "views_per_channel = youtube_df.groupby(['channel_title']).sum()['views']\n",
    "\n",
    "# Count likes per channel \n",
    "likes_per_channel = youtube_df.groupby('channel_title').sum()['likes']\n",
    "\n",
    "# Count dislikes per channel \n",
    "dislikes_per_channel = youtube_df.groupby('channel_title').sum()['dislikes']\n",
    "\n",
    "# Count comments per channel \n",
    "comments_per_channel = youtube_df.groupby('channel_title').sum()['comment_count']\n",
    "\n",
    "# Count videos with comments disabled\n",
    "comments_disabled_per_channel = youtube_df.groupby('channel_title').sum()['comments_disabled']\n",
    "\n",
    "# Count videos with ratings disabled\n",
    "ratings_disabled_per_channel = youtube_df.groupby('channel_title').sum()['ratings_disabled']\n",
    "\n",
    "days_trending = youtube_df.groupby('channel_title').sum()['days_trending']\n",
    "trending_days_per_vid = (days_trending/upload_count).astype('int')\n",
    "\n",
    "# Count videos with ratings disabled\n",
    "tags_per_channel = youtube_df.groupby('channel_title').sum()['tags_count']\n",
    "\n",
    "# Count videos with ratings disabled\n",
    "days_to_trend = youtube_df.groupby('channel_title').sum()['post_to_trend_days']\n",
    "\n"
   ]
  },
  {
   "cell_type": "code",
   "execution_count": 8,
   "id": "e2a71c60",
   "metadata": {},
   "outputs": [
    {
     "data": {
      "text/plain": [
       "ESPN                                      84\n",
       "TheEllenShow                              74\n",
       "The Tonight Show Starring Jimmy Fallon    72\n",
       "Jimmy Kimmel Live                         70\n",
       "Netflix                                   58\n",
       "                                          ..\n",
       "Famous Celebrities Snaps                   1\n",
       "Onur Altuğ Sever                           1\n",
       "Dawid Szmandra                             1\n",
       "IFC                                        1\n",
       "How It Should Have Ended                   1\n",
       "Name: channel_title, Length: 2198, dtype: int32"
      ]
     },
     "execution_count": 8,
     "metadata": {},
     "output_type": "execute_result"
    }
   ],
   "source": [
    "upload_count"
   ]
  },
  {
   "cell_type": "code",
   "execution_count": 6,
   "id": "3b8754e7",
   "metadata": {},
   "outputs": [],
   "source": [
    "# Create a DataFrame\n",
    "channel_stats = pd.DataFrame(\n",
    "          {\"Uploads\": upload_count,\n",
    "           \"Days Spent Trending\": days_trending,\n",
    "           \"Days Spent Trending Per Video\": trending_days_per_vid,\n",
    "           \"Tags Count\": tags_per_channel,\n",
    "          \"Views\": views_per_channel, \n",
    "          \"Likes\": likes_per_channel,\n",
    "          \"Dislikes\": dislikes_per_channel, \n",
    "          \"Comments\": comments_per_channel,\n",
    "           \"Days Until Trending\": days_to_trend,\n",
    "          \"Videos With Disabled Comments\": comments_disabled_per_channel,\n",
    "         \"Videos With Disabled Ratings\": ratings_disabled_per_channel})\n",
    "\n",
    "channel_stats.index.name='Channel'\n",
    "# Add comma seperators\n",
    "# channel_stats[\"Uploads\"] = channel_stats[\"Uploads\"].map(\"{:,}\".format)\n",
    "# channel_stats[\"Views\"] = channel_stats[\"Views\"].map(\"{:,}\".format)\n",
    "# channel_stats[\"Likes\"] = channel_stats[\"Likes\"].map(\"{:,}\".format)\n",
    "# channel_stats[\"Dislikes\"] = channel_stats[\"Dislikes\"].map(\"{:,}\".format)\n",
    "# channel_stats[\"Comments\"] = channel_stats[\"Comments\"].map(\"{:,}\".format)\n",
    "# channel_stats"
   ]
  },
  {
   "cell_type": "code",
   "execution_count": null,
   "id": "5395ed03",
   "metadata": {},
   "outputs": [],
   "source": []
  },
  {
   "cell_type": "code",
   "execution_count": null,
   "id": "6b2e1871",
   "metadata": {},
   "outputs": [],
   "source": []
  },
  {
   "cell_type": "code",
   "execution_count": 7,
   "id": "63eccb92",
   "metadata": {},
   "outputs": [],
   "source": [
    "# Create a DataFrame\n",
    "channel_stats_alt_titles = pd.DataFrame(\n",
    "          {\"upload_count\": upload_count,\n",
    "           \"days_trending\": days_trending,\n",
    "           \"trending_days_per_vid\": trending_days_per_vid,\n",
    "           \"tags_per_channel\": tags_per_channel,\n",
    "          \"views_per_channel\": views_per_channel, \n",
    "          \"likes_per_channel\": likes_per_channel,\n",
    "          \"dislikes_per_channel\": dislikes_per_channel, \n",
    "          \"comments_per_channel\": comments_per_channel,\n",
    "           \"days_to_trend\": days_to_trend,\n",
    "          \"comments_disabled_per_channel\": comments_disabled_per_channel,\n",
    "         \"ratings_disabled_per_channel\": ratings_disabled_per_channel})\n",
    "\n",
    "channel_stats.index.name='Channel'"
   ]
  },
  {
   "cell_type": "code",
   "execution_count": 14,
   "id": "81416671",
   "metadata": {},
   "outputs": [],
   "source": [
    "channel_cat = []\n",
    "for uc, dtr in zip(channel_stats_alt_titles['upload_count'], channel_stats_alt_titles['days_trending']):\n",
    "    if uc == 1 and dtr == 1:\n",
    "        channel_cat.append(\"1\")\n",
    "    elif uc == 1 and dtr > 1:\n",
    "        channel_cat.append(\"2\")\n",
    "    elif uc > 1 and dtr > 1:\n",
    "        channel_cat.append(\"3\")\n",
    "      \n",
    "channel_stats_alt_titles[\"channel_cat\"] = channel_cat"
   ]
  },
  {
   "cell_type": "code",
   "execution_count": null,
   "id": "3e246779",
   "metadata": {},
   "outputs": [],
   "source": [
    "channel_stats_alt_titles.dtypes"
   ]
  },
  {
   "cell_type": "code",
   "execution_count": null,
   "id": "041d760a",
   "metadata": {},
   "outputs": [],
   "source": [
    "trending_sv_sd = channel_stats_alt_titles[(channel_stats_alt_titles['upload_count'] == 1) & (channel_stats_alt_titles['days_trending'] == 1)]"
   ]
  },
  {
   "cell_type": "code",
   "execution_count": null,
   "id": "5d2ddeb7",
   "metadata": {},
   "outputs": [],
   "source": [
    "trending_multi_vid = channel_stats_alt_titles[(channel_stats_alt_titles['upload_count'] > 1) & (channel_stats_alt_titles['days_trending'] > 1)]\n",
    "\n",
    "trending_single_vid = channel_stats_alt_titles[(channel_stats_alt_titles['upload_count'] == 1) & (channel_stats_alt_titles['days_trending'] > 1)]"
   ]
  },
  {
   "cell_type": "code",
   "execution_count": 17,
   "id": "e53ebf93",
   "metadata": {},
   "outputs": [
    {
     "data": {
      "text/plain": [
       "channel_cat\n",
       "1     123\n",
       "2    1266\n",
       "3    4962\n",
       "Name: upload_count, dtype: int32"
      ]
     },
     "execution_count": 17,
     "metadata": {},
     "output_type": "execute_result"
    }
   ],
   "source": [
    "vids_per_channel_cat = channel_stats_alt_titles.groupby(['channel_cat']).sum()['upload_count']\n",
    "vids_per_channel_cat"
   ]
  },
  {
   "cell_type": "code",
   "execution_count": 18,
   "id": "bd9dbc96",
   "metadata": {},
   "outputs": [],
   "source": [
    "# channel_stats_alt_titles.to_csv('./Data/channel_stats_alt.csv')"
   ]
  },
  {
   "cell_type": "code",
   "execution_count": null,
   "id": "ee9faa4e",
   "metadata": {},
   "outputs": [],
   "source": [
    "# channel_stats.to_csv('./Data/channel_stats.csv')"
   ]
  },
  {
   "cell_type": "code",
   "execution_count": null,
   "id": "9e7a0085",
   "metadata": {},
   "outputs": [],
   "source": [
    "# Export Csv\n",
    "# trending_multi_vid.to_csv('./Data/multi_vid_channel_stats.csv')\n",
    "# trending_single_vid.to_csv('./Data/single_vid_channel_stats.csv')\n",
    "\n"
   ]
  }
 ],
 "metadata": {
  "kernelspec": {
   "display_name": "PythonData",
   "language": "python",
   "name": "pythondata"
  },
  "language_info": {
   "codemirror_mode": {
    "name": "ipython",
    "version": 3
   },
   "file_extension": ".py",
   "mimetype": "text/x-python",
   "name": "python",
   "nbconvert_exporter": "python",
   "pygments_lexer": "ipython3",
   "version": "3.7.1"
  }
 },
 "nbformat": 4,
 "nbformat_minor": 5
}
