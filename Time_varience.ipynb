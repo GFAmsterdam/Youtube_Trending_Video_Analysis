{
 "cells": [
  {
   "cell_type": "code",
   "execution_count": 14,
   "id": "f9b8f519",
   "metadata": {},
   "outputs": [],
   "source": [
    "# Dependencies\n",
    "import json\n",
    "import pandas as pd\n",
    "import numpy as np\n",
    "from datetime import datetime\n",
    "youtube_df = pd.read_csv('./Data/USvideos_c1.csv')\n",
    "\n",
    "youtube_df['trending_date']= youtube_df['trending_date'].values.astype('datetime64[s]')\n",
    "youtube_df['publish_time']= youtube_df['publish_time'].values.astype('datetime64[s]')\n",
    "youtube_df['diff_days'] = (youtube_df['trending_date'] - youtube_df['publish_time']).dt.days\n",
    "\n"
   ]
  }
 ],
 "metadata": {
  "kernelspec": {
   "display_name": "mlenv",
   "language": "python",
   "name": "mlenv"
  },
  "language_info": {
   "codemirror_mode": {
    "name": "ipython",
    "version": 3
   },
   "file_extension": ".py",
   "mimetype": "text/x-python",
   "name": "python",
   "nbconvert_exporter": "python",
   "pygments_lexer": "ipython3",
   "version": "3.7.13"
  }
 },
 "nbformat": 4,
 "nbformat_minor": 5
}
