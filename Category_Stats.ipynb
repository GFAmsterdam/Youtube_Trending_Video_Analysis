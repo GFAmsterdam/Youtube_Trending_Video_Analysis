{
 "cells": [
  {
   "cell_type": "code",
   "execution_count": null,
   "id": "57496159",
   "metadata": {},
   "outputs": [],
   "source": [
    "# Dependencies\n",
    "import json\n",
    "import pandas as pd\n",
    "import numpy as np\n",
    "from datetime import datetime\n",
    "youtube_df = pd.read_csv('./Data/USvideos_c1.csv')"
   ]
  },
  {
   "cell_type": "code",
   "execution_count": null,
   "id": "fcadafa5",
   "metadata": {},
   "outputs": [],
   "source": [
    "# Figure out column names and dtypes\n",
    "youtube_df.dtypes"
   ]
  },
  {
   "cell_type": "code",
   "execution_count": null,
   "id": "aa116141",
   "metadata": {},
   "outputs": [],
   "source": [
    "# Look at what topics are most popular\n",
    "views_per_category = pd.DataFrame(youtube_df.groupby(['category_type']).sum()['views'])\n",
    "views_per_category = views_per_category.sort_values('views', ascending=False)\n",
    "views_per_category.head()"
   ]
  }
 ],
 "metadata": {
  "kernelspec": {
   "display_name": "PythonData",
   "language": "python",
   "name": "pythondata"
  },
  "language_info": {
   "codemirror_mode": {
    "name": "ipython",
    "version": 3
   },
   "file_extension": ".py",
   "mimetype": "text/x-python",
   "name": "python",
   "nbconvert_exporter": "python",
   "pygments_lexer": "ipython3",
   "version": "3.7.1"
  }
 },
 "nbformat": 4,
 "nbformat_minor": 5
}
