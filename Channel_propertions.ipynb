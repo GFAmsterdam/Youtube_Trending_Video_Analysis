{
 "cells": [
  {
   "cell_type": "code",
   "execution_count": 1,
   "id": "9e92c325",
   "metadata": {},
   "outputs": [
    {
     "data": {
      "text/plain": [
       "Unnamed: 0                       object\n",
       "upload_count                      int64\n",
       "days_trending                     int64\n",
       "trending_days_per_vid             int64\n",
       "tags_per_channel                  int64\n",
       "views_per_channel                 int64\n",
       "likes_per_channel                 int64\n",
       "dislikes_per_channel              int64\n",
       "comments_per_channel              int64\n",
       "days_to_trend                     int64\n",
       "comments_disabled_per_channel     int64\n",
       "ratings_disabled_per_channel      int64\n",
       "dtype: object"
      ]
     },
     "execution_count": 1,
     "metadata": {},
     "output_type": "execute_result"
    }
   ],
   "source": [
    "# Dependencies\n",
    "import json\n",
    "import pandas as pd\n",
    "import numpy as np\n",
    "from datetime import datetime\n",
    "\n",
    "multi_upload = pd.read_csv('./Data/multi_vid_channel_stats.csv')\n",
    "single_upload = pd.read_csv('./Data/single_vid_channel_stats.csv')\n",
    "\n",
    "single_upload.dtypes"
   ]
  },
  {
   "cell_type": "code",
   "execution_count": 2,
   "id": "699ca4f0",
   "metadata": {},
   "outputs": [
    {
     "data": {
      "text/html": [
       "<div>\n",
       "<style scoped>\n",
       "    .dataframe tbody tr th:only-of-type {\n",
       "        vertical-align: middle;\n",
       "    }\n",
       "\n",
       "    .dataframe tbody tr th {\n",
       "        vertical-align: top;\n",
       "    }\n",
       "\n",
       "    .dataframe thead th {\n",
       "        text-align: right;\n",
       "    }\n",
       "</style>\n",
       "<table border=\"1\" class=\"dataframe\">\n",
       "  <thead>\n",
       "    <tr style=\"text-align: right;\">\n",
       "      <th></th>\n",
       "      <th>Unnamed: 0</th>\n",
       "      <th>upload_count</th>\n",
       "      <th>days_trending</th>\n",
       "      <th>trending_days_per_vid</th>\n",
       "      <th>tags_per_channel</th>\n",
       "      <th>views_per_channel</th>\n",
       "      <th>likes_per_channel</th>\n",
       "      <th>dislikes_per_channel</th>\n",
       "      <th>comments_per_channel</th>\n",
       "      <th>days_to_trend</th>\n",
       "      <th>comments_disabled_per_channel</th>\n",
       "      <th>ratings_disabled_per_channel</th>\n",
       "    </tr>\n",
       "  </thead>\n",
       "  <tbody>\n",
       "    <tr>\n",
       "      <th>0</th>\n",
       "      <td>12 News</td>\n",
       "      <td>1</td>\n",
       "      <td>2</td>\n",
       "      <td>2</td>\n",
       "      <td>5</td>\n",
       "      <td>92327</td>\n",
       "      <td>182</td>\n",
       "      <td>45</td>\n",
       "      <td>0</td>\n",
       "      <td>4</td>\n",
       "      <td>0</td>\n",
       "      <td>0</td>\n",
       "    </tr>\n",
       "    <tr>\n",
       "      <th>1</th>\n",
       "      <td>2CELLOS</td>\n",
       "      <td>1</td>\n",
       "      <td>2</td>\n",
       "      <td>2</td>\n",
       "      <td>26</td>\n",
       "      <td>226317</td>\n",
       "      <td>11702</td>\n",
       "      <td>125</td>\n",
       "      <td>471</td>\n",
       "      <td>4</td>\n",
       "      <td>0</td>\n",
       "      <td>0</td>\n",
       "    </tr>\n",
       "    <tr>\n",
       "      <th>2</th>\n",
       "      <td>42Fab - Metalworking and Multi-Medium Fabrication</td>\n",
       "      <td>1</td>\n",
       "      <td>5</td>\n",
       "      <td>5</td>\n",
       "      <td>21</td>\n",
       "      <td>59285</td>\n",
       "      <td>602</td>\n",
       "      <td>88</td>\n",
       "      <td>139</td>\n",
       "      <td>8</td>\n",
       "      <td>0</td>\n",
       "      <td>0</td>\n",
       "    </tr>\n",
       "    <tr>\n",
       "      <th>3</th>\n",
       "      <td>4given4ever1</td>\n",
       "      <td>1</td>\n",
       "      <td>6</td>\n",
       "      <td>6</td>\n",
       "      <td>1</td>\n",
       "      <td>247280</td>\n",
       "      <td>7585</td>\n",
       "      <td>581</td>\n",
       "      <td>0</td>\n",
       "      <td>6</td>\n",
       "      <td>1</td>\n",
       "      <td>0</td>\n",
       "    </tr>\n",
       "    <tr>\n",
       "      <th>4</th>\n",
       "      <td>52 Skillz</td>\n",
       "      <td>1</td>\n",
       "      <td>4</td>\n",
       "      <td>4</td>\n",
       "      <td>19</td>\n",
       "      <td>47717</td>\n",
       "      <td>491</td>\n",
       "      <td>23</td>\n",
       "      <td>59</td>\n",
       "      <td>5</td>\n",
       "      <td>0</td>\n",
       "      <td>0</td>\n",
       "    </tr>\n",
       "    <tr>\n",
       "      <th>...</th>\n",
       "      <td>...</td>\n",
       "      <td>...</td>\n",
       "      <td>...</td>\n",
       "      <td>...</td>\n",
       "      <td>...</td>\n",
       "      <td>...</td>\n",
       "      <td>...</td>\n",
       "      <td>...</td>\n",
       "      <td>...</td>\n",
       "      <td>...</td>\n",
       "      <td>...</td>\n",
       "      <td>...</td>\n",
       "    </tr>\n",
       "    <tr>\n",
       "      <th>1261</th>\n",
       "      <td>ワーナー ブラザース 公式チャンネル</td>\n",
       "      <td>1</td>\n",
       "      <td>6</td>\n",
       "      <td>6</td>\n",
       "      <td>9</td>\n",
       "      <td>1516682</td>\n",
       "      <td>30827</td>\n",
       "      <td>1237</td>\n",
       "      <td>4451</td>\n",
       "      <td>6</td>\n",
       "      <td>0</td>\n",
       "      <td>0</td>\n",
       "    </tr>\n",
       "    <tr>\n",
       "      <th>1262</th>\n",
       "      <td>圧倒的不審者の極み!</td>\n",
       "      <td>1</td>\n",
       "      <td>12</td>\n",
       "      <td>12</td>\n",
       "      <td>26</td>\n",
       "      <td>1353109</td>\n",
       "      <td>16766</td>\n",
       "      <td>1370</td>\n",
       "      <td>5417</td>\n",
       "      <td>12</td>\n",
       "      <td>0</td>\n",
       "      <td>0</td>\n",
       "    </tr>\n",
       "    <tr>\n",
       "      <th>1263</th>\n",
       "      <td>杰威爾音樂 JVR Music</td>\n",
       "      <td>1</td>\n",
       "      <td>29</td>\n",
       "      <td>29</td>\n",
       "      <td>17</td>\n",
       "      <td>21957640</td>\n",
       "      <td>140214</td>\n",
       "      <td>10716</td>\n",
       "      <td>15418</td>\n",
       "      <td>27</td>\n",
       "      <td>0</td>\n",
       "      <td>0</td>\n",
       "    </tr>\n",
       "    <tr>\n",
       "      <th>1264</th>\n",
       "      <td>郭韋辰</td>\n",
       "      <td>1</td>\n",
       "      <td>2</td>\n",
       "      <td>2</td>\n",
       "      <td>1</td>\n",
       "      <td>14370</td>\n",
       "      <td>51</td>\n",
       "      <td>1</td>\n",
       "      <td>4</td>\n",
       "      <td>7</td>\n",
       "      <td>0</td>\n",
       "      <td>0</td>\n",
       "    </tr>\n",
       "    <tr>\n",
       "      <th>1265</th>\n",
       "      <td>영국남자 Korean Englishman</td>\n",
       "      <td>1</td>\n",
       "      <td>6</td>\n",
       "      <td>6</td>\n",
       "      <td>49</td>\n",
       "      <td>1202392</td>\n",
       "      <td>27324</td>\n",
       "      <td>501</td>\n",
       "      <td>3060</td>\n",
       "      <td>5</td>\n",
       "      <td>0</td>\n",
       "      <td>0</td>\n",
       "    </tr>\n",
       "  </tbody>\n",
       "</table>\n",
       "<p>1266 rows × 12 columns</p>\n",
       "</div>"
      ],
      "text/plain": [
       "                                             Unnamed: 0  upload_count  \\\n",
       "0                                               12 News             1   \n",
       "1                                               2CELLOS             1   \n",
       "2     42Fab - Metalworking and Multi-Medium Fabrication             1   \n",
       "3                                          4given4ever1             1   \n",
       "4                                             52 Skillz             1   \n",
       "...                                                 ...           ...   \n",
       "1261                                 ワーナー ブラザース 公式チャンネル             1   \n",
       "1262                                         圧倒的不審者の極み!             1   \n",
       "1263                                    杰威爾音樂 JVR Music             1   \n",
       "1264                                                郭韋辰             1   \n",
       "1265                             영국남자 Korean Englishman             1   \n",
       "\n",
       "      days_trending  trending_days_per_vid  tags_per_channel  \\\n",
       "0                 2                      2                 5   \n",
       "1                 2                      2                26   \n",
       "2                 5                      5                21   \n",
       "3                 6                      6                 1   \n",
       "4                 4                      4                19   \n",
       "...             ...                    ...               ...   \n",
       "1261              6                      6                 9   \n",
       "1262             12                     12                26   \n",
       "1263             29                     29                17   \n",
       "1264              2                      2                 1   \n",
       "1265              6                      6                49   \n",
       "\n",
       "      views_per_channel  likes_per_channel  dislikes_per_channel  \\\n",
       "0                 92327                182                    45   \n",
       "1                226317              11702                   125   \n",
       "2                 59285                602                    88   \n",
       "3                247280               7585                   581   \n",
       "4                 47717                491                    23   \n",
       "...                 ...                ...                   ...   \n",
       "1261            1516682              30827                  1237   \n",
       "1262            1353109              16766                  1370   \n",
       "1263           21957640             140214                 10716   \n",
       "1264              14370                 51                     1   \n",
       "1265            1202392              27324                   501   \n",
       "\n",
       "      comments_per_channel  days_to_trend  comments_disabled_per_channel  \\\n",
       "0                        0              4                              0   \n",
       "1                      471              4                              0   \n",
       "2                      139              8                              0   \n",
       "3                        0              6                              1   \n",
       "4                       59              5                              0   \n",
       "...                    ...            ...                            ...   \n",
       "1261                  4451              6                              0   \n",
       "1262                  5417             12                              0   \n",
       "1263                 15418             27                              0   \n",
       "1264                     4              7                              0   \n",
       "1265                  3060              5                              0   \n",
       "\n",
       "      ratings_disabled_per_channel  \n",
       "0                                0  \n",
       "1                                0  \n",
       "2                                0  \n",
       "3                                0  \n",
       "4                                0  \n",
       "...                            ...  \n",
       "1261                             0  \n",
       "1262                             0  \n",
       "1263                             0  \n",
       "1264                             0  \n",
       "1265                             0  \n",
       "\n",
       "[1266 rows x 12 columns]"
      ]
     },
     "execution_count": 2,
     "metadata": {},
     "output_type": "execute_result"
    }
   ],
   "source": [
    "single_upload"
   ]
  },
  {
   "cell_type": "code",
   "execution_count": null,
   "id": "580c1502",
   "metadata": {},
   "outputs": [],
   "source": []
  },
  {
   "cell_type": "code",
   "execution_count": 5,
   "id": "45423951",
   "metadata": {},
   "outputs": [],
   "source": [
    "single_upload_count = single_upload.upload_count.sum()\n",
    "multi_upload_count = multi_upload.upload_count.sum()\n",
    "total_videos = single_upload_count + multi_upload_count"
   ]
  },
  {
   "cell_type": "code",
   "execution_count": 4,
   "id": "90d53b8e",
   "metadata": {},
   "outputs": [],
   "source": [
    "single_upload_views = single_upload.views_per_channel.sum()\n",
    "multi_upload_views = multi_upload.views_per_channel.sum()\n",
    "total_views = single_upload_views + multi_upload_views"
   ]
  },
  {
   "cell_type": "code",
   "execution_count": 7,
   "id": "e12b2eab",
   "metadata": {},
   "outputs": [],
   "source": [
    "single_upload_likes = single_upload.likes_per_channel.sum()\n",
    "multi_upload_likes = multi_upload.likes_per_channel.sum()\n",
    "total_likes = single_upload_likes + multi_upload_likes"
   ]
  },
  {
   "cell_type": "code",
   "execution_count": null,
   "id": "5bcd9595",
   "metadata": {},
   "outputs": [],
   "source": [
    "single_upload_trending = single_upload.days_trending.sum()\n",
    "multi_upload_trending = multi_upload.days_trending.sum()\n",
    "total_days_trending = single_upload_trending + multi_upload_trending"
   ]
  },
  {
   "cell_type": "code",
   "execution_count": 8,
   "id": "6560052f",
   "metadata": {},
   "outputs": [],
   "source": [
    "single_upload_views = single_upload.views.sum()"
   ]
  },
  {
   "cell_type": "code",
   "execution_count": 9,
   "id": "70db3ffb",
   "metadata": {},
   "outputs": [
    {
     "data": {
      "text/plain": [
       "1266"
      ]
     },
     "execution_count": 9,
     "metadata": {},
     "output_type": "execute_result"
    }
   ],
   "source": [
    "single_upload_count"
   ]
  },
  {
   "cell_type": "code",
   "execution_count": 7,
   "id": "01605a78",
   "metadata": {},
   "outputs": [
    {
     "data": {
      "text/plain": [
       "0.20028067155820714"
      ]
     },
     "execution_count": 7,
     "metadata": {},
     "output_type": "execute_result"
    }
   ],
   "source": [
    "single_upload_views / (single_upload_views + multi_upload_views)"
   ]
  },
  {
   "cell_type": "code",
   "execution_count": 6,
   "id": "8185b35e",
   "metadata": {},
   "outputs": [
    {
     "data": {
      "text/plain": [
       "0.20327552986512523"
      ]
     },
     "execution_count": 6,
     "metadata": {},
     "output_type": "execute_result"
    }
   ],
   "source": [
    "single_upload_count/total_videos"
   ]
  },
  {
   "cell_type": "code",
   "execution_count": 8,
   "id": "8ad04f7e",
   "metadata": {},
   "outputs": [
    {
     "data": {
      "text/plain": [
       "0.1568972156103105"
      ]
     },
     "execution_count": 8,
     "metadata": {},
     "output_type": "execute_result"
    }
   ],
   "source": [
    "single_upload_likes/total_likes"
   ]
  },
  {
   "cell_type": "code",
   "execution_count": null,
   "id": "21bb02eb",
   "metadata": {},
   "outputs": [],
   "source": [
    "single_upload_likes/total_likes"
   ]
  }
 ],
 "metadata": {
  "kernelspec": {
   "display_name": "PythonData",
   "language": "python",
   "name": "pythondata"
  },
  "language_info": {
   "codemirror_mode": {
    "name": "ipython",
    "version": 3
   },
   "file_extension": ".py",
   "mimetype": "text/x-python",
   "name": "python",
   "nbconvert_exporter": "python",
   "pygments_lexer": "ipython3",
   "version": "3.7.1"
  }
 },
 "nbformat": 4,
 "nbformat_minor": 5
}
